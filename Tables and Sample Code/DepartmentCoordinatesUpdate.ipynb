{
 "cells": [
  {
   "cell_type": "code",
   "execution_count": null,
   "id": "c4419803-7d81-4620-aa80-bee91d300fe9",
   "metadata": {},
   "outputs": [],
   "source": [
    "import mysql.connector\n",
    "from mysql.connector import Error\n",
    "\n",
    "def set_department_coordinates(department_id, d_coordinates):\n",
    "    \"\"\"\n",
    "    Sets the d_coordinates of a department in the MySQL database.\n",
    "    \n",
    "    Parameters:\n",
    "    - department_id: int, ID of the department to update.\n",
    "    - d_coordinates: str, the coordinates of the department.\n",
    "\n",
    "    Returns:\n",
    "    - str, success or error message.\n",
    "    \"\"\"\n",
    "    try:\n",
    "        # Connect to the MySQL database\n",
    "        connection = mysql.connector.connect(\n",
    "            host='your_host',\n",
    "            user='your_user',\n",
    "            password='your_password',\n",
    "            database='AssetManagement'\n",
    "        )\n",
    "\n",
    "        if connection.is_connected():\n",
    "            cursor = connection.cursor()\n",
    "\n",
    "            # SQL query to update department coordinates\n",
    "            update_query = \"\"\"\n",
    "            UPDATE Department\n",
    "            SET d_coordinates = %s\n",
    "            WHERE department_id = %s;\n",
    "            \"\"\"\n",
    "            \n",
    "            # Execute the update query\n",
    "            cursor.execute(update_query, (d_coordinates, department_id))\n",
    "            \n",
    "            # Commit the transaction\n",
    "            connection.commit()\n",
    "            \n",
    "            return f\"Department with ID {department_id} updated successfully.\"\n",
    "\n",
    "    except Error as e:\n",
    "        return f\"Error: {e}\"\n",
    "\n",
    "    finally:\n",
    "        # Close the database connection\n",
    "        if connection.is_connected():\n",
    "            cursor.close()\n",
    "            connection.close()\n"
   ]
  }
 ],
 "metadata": {
  "kernelspec": {
   "display_name": "Python 3 (ipykernel)",
   "language": "python",
   "name": "python3"
  },
  "language_info": {
   "codemirror_mode": {
    "name": "ipython",
    "version": 3
   },
   "file_extension": ".py",
   "mimetype": "text/x-python",
   "name": "python",
   "nbconvert_exporter": "python",
   "pygments_lexer": "ipython3",
   "version": "3.11.4"
  }
 },
 "nbformat": 4,
 "nbformat_minor": 5
}
