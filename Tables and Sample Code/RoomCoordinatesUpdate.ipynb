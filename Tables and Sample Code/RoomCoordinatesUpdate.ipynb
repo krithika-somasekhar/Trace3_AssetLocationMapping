{
 "cells": [
  {
   "cell_type": "code",
   "execution_count": null,
   "id": "1b0a716b-eeac-4d24-8f8f-783bce608fc6",
   "metadata": {},
   "outputs": [],
   "source": [
    "import mysql.connector\n",
    "from mysql.connector import Error\n",
    "\n",
    "def set_room_coordinates(room_id, r_coordinates, room_shape):\n",
    "    \"\"\"\n",
    "    Sets the r_coordinates and room_shape of a room in the MySQL database.\n",
    "    \n",
    "    Parameters:\n",
    "    - room_id: int, ID of the room to update.\n",
    "    - r_coordinates: str, the coordinates of the room.\n",
    "    - room_shape: str, the shape of the room ('rectangle', 'semicircle', 'square').\n",
    "\n",
    "    Returns:\n",
    "    - str, success or error message.\n",
    "    \"\"\"\n",
    "    try:\n",
    "        # Connect to the MySQL database\n",
    "        connection = mysql.connector.connect(\n",
    "            host='your_host',\n",
    "            user='your_user',\n",
    "            password='your_password',\n",
    "            database='AssetManagement'\n",
    "        )\n",
    "\n",
    "        if connection.is_connected():\n",
    "            cursor = connection.cursor()\n",
    "\n",
    "            # SQL query to update room coordinates and shape\n",
    "            update_query = \"\"\"\n",
    "            UPDATE Room\n",
    "            SET r_coordinates = %s, room_shape = %s\n",
    "            WHERE room_id = %s;\n",
    "            \"\"\"\n",
    "            \n",
    "            # Execute the update query\n",
    "            cursor.execute(update_query, (r_coordinates, room_shape, room_id))\n",
    "            \n",
    "            # Commit the transaction\n",
    "            connection.commit()\n",
    "            \n",
    "            return f\"Room with ID {room_id} updated successfully.\"\n",
    "\n",
    "    except Error as e:\n",
    "        return f\"Error: {e}\"\n",
    "\n",
    "    finally:\n",
    "        # Close the database connection\n",
    "        if connection.is_connected():\n",
    "            cursor.close()\n",
    "            connection.close()\n"
   ]
  }
 ],
 "metadata": {
  "kernelspec": {
   "display_name": "Python 3 (ipykernel)",
   "language": "python",
   "name": "python3"
  },
  "language_info": {
   "codemirror_mode": {
    "name": "ipython",
    "version": 3
   },
   "file_extension": ".py",
   "mimetype": "text/x-python",
   "name": "python",
   "nbconvert_exporter": "python",
   "pygments_lexer": "ipython3",
   "version": "3.11.4"
  }
 },
 "nbformat": 4,
 "nbformat_minor": 5
}
